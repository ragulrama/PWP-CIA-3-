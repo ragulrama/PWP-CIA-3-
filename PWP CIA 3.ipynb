{
 "cells": [
  {
   "cell_type": "markdown",
   "metadata": {},
   "source": [
    "#Business Understanding:\n",
    "Google Store was introduced on March 11, 2015, and has replaced Google Play&#39;s Devices\n",
    "section as the hardware retailer for Google. Ana Corrales, who is also the COO of the Google\n",
    "Computer Hardware division, manages it. Google has also been experimenting with the physical\n",
    "locations. In November 2016, Google opened &quot;Google store&quot;, a shop-inside-a-store where\n",
    "Google shows its hardware products.\n",
    "\n",
    "#Data understanding\n",
    "Google Merchandize Store has collaborated with Kaggle to predict the revenue per customer and\n",
    "released its data in its website to the public for better prediction decisions and improved\n",
    "perspectives. The dataset contains around 900000 observations. From which the model has\n",
    "predicted the total revenue spent by each customer from various visits to the store website.\n",
    "The data taken for the project is the customer visits and the revenue made by them by purchasing\n",
    "the products in the Gstore website every time they visit the website.\n",
    "\n",
    "#Data Preparation:\n",
    "Usually the data won’t be that much accurate other than quantitative information. Most\n",
    "commonplace mistakes within the information are lacking values and statistics inconsistencies.\n",
    "Consequently, as part of data cleaning technique the above referred to issues have been\n",
    "addressed. The data types have been converted into required formats. Similarly, statistics\n",
    "integration became completed to construct a very last statistics set suitable for model building.\n"
   ]
  },
  {
   "cell_type": "code",
   "execution_count": 1,
   "metadata": {},
   "outputs": [],
   "source": [
    "#Libraries\n",
    "import pandas as pd\n",
    "import numpy as np\n",
    "\n",
    "# plots\n",
    "import seaborn as sns\n",
    "import matplotlib.pyplot as plt\n",
    "%matplotlib inline\n",
    "\n",
    "# remove warnings\n",
    "import warnings\n",
    "warnings.simplefilter(\"ignore\")"
   ]
  },
  {
   "cell_type": "code",
   "execution_count": 2,
   "metadata": {},
   "outputs": [
    {
     "data": {
      "text/plain": [
       "((903653, 12), (804684, 12))"
      ]
     },
     "execution_count": 2,
     "metadata": {},
     "output_type": "execute_result"
    }
   ],
   "source": [
    "train = pd.read_csv('E:\\\\RAGUL Christ\\\\Capstone\\\\Dataset\\\\train.csv')\n",
    "test = pd.read_csv('E:\\\\RAGUL Christ\\\\Capstone\\\\Dataset\\\\test.csv')\n",
    "train.shape, test.shape"
   ]
  },
  {
   "cell_type": "code",
   "execution_count": 3,
   "metadata": {},
   "outputs": [
    {
     "data": {
      "text/html": [
       "<div>\n",
       "<style scoped>\n",
       "    .dataframe tbody tr th:only-of-type {\n",
       "        vertical-align: middle;\n",
       "    }\n",
       "\n",
       "    .dataframe tbody tr th {\n",
       "        vertical-align: top;\n",
       "    }\n",
       "\n",
       "    .dataframe thead th {\n",
       "        text-align: right;\n",
       "    }\n",
       "</style>\n",
       "<table border=\"1\" class=\"dataframe\">\n",
       "  <thead>\n",
       "    <tr style=\"text-align: right;\">\n",
       "      <th></th>\n",
       "      <th>channelGrouping</th>\n",
       "      <th>date</th>\n",
       "      <th>device</th>\n",
       "      <th>fullVisitorId</th>\n",
       "      <th>geoNetwork</th>\n",
       "      <th>sessionId</th>\n",
       "      <th>socialEngagementType</th>\n",
       "      <th>totals</th>\n",
       "      <th>trafficSource</th>\n",
       "      <th>visitId</th>\n",
       "      <th>visitNumber</th>\n",
       "      <th>visitStartTime</th>\n",
       "    </tr>\n",
       "  </thead>\n",
       "  <tbody>\n",
       "    <tr>\n",
       "      <th>0</th>\n",
       "      <td>Organic Search</td>\n",
       "      <td>20171016</td>\n",
       "      <td>{\"browser\": \"Chrome\", \"browserVersion\": \"not a...</td>\n",
       "      <td>6167871330617112363</td>\n",
       "      <td>{\"continent\": \"Asia\", \"subContinent\": \"Southea...</td>\n",
       "      <td>6167871330617112363_1508151024</td>\n",
       "      <td>Not Socially Engaged</td>\n",
       "      <td>{\"visits\": \"1\", \"hits\": \"4\", \"pageviews\": \"4\"}</td>\n",
       "      <td>{\"campaign\": \"(not set)\", \"source\": \"google\", ...</td>\n",
       "      <td>1508151024</td>\n",
       "      <td>2</td>\n",
       "      <td>1508151024</td>\n",
       "    </tr>\n",
       "    <tr>\n",
       "      <th>1</th>\n",
       "      <td>Organic Search</td>\n",
       "      <td>20171016</td>\n",
       "      <td>{\"browser\": \"Chrome\", \"browserVersion\": \"not a...</td>\n",
       "      <td>0643697640977915618</td>\n",
       "      <td>{\"continent\": \"Europe\", \"subContinent\": \"South...</td>\n",
       "      <td>0643697640977915618_1508175522</td>\n",
       "      <td>Not Socially Engaged</td>\n",
       "      <td>{\"visits\": \"1\", \"hits\": \"5\", \"pageviews\": \"5\",...</td>\n",
       "      <td>{\"campaign\": \"(not set)\", \"source\": \"google\", ...</td>\n",
       "      <td>1508175522</td>\n",
       "      <td>1</td>\n",
       "      <td>1508175522</td>\n",
       "    </tr>\n",
       "    <tr>\n",
       "      <th>2</th>\n",
       "      <td>Organic Search</td>\n",
       "      <td>20171016</td>\n",
       "      <td>{\"browser\": \"Chrome\", \"browserVersion\": \"not a...</td>\n",
       "      <td>6059383810968229466</td>\n",
       "      <td>{\"continent\": \"Europe\", \"subContinent\": \"Weste...</td>\n",
       "      <td>6059383810968229466_1508143220</td>\n",
       "      <td>Not Socially Engaged</td>\n",
       "      <td>{\"visits\": \"1\", \"hits\": \"7\", \"pageviews\": \"7\",...</td>\n",
       "      <td>{\"campaign\": \"(not set)\", \"source\": \"google\", ...</td>\n",
       "      <td>1508143220</td>\n",
       "      <td>1</td>\n",
       "      <td>1508143220</td>\n",
       "    </tr>\n",
       "    <tr>\n",
       "      <th>3</th>\n",
       "      <td>Organic Search</td>\n",
       "      <td>20171016</td>\n",
       "      <td>{\"browser\": \"Safari\", \"browserVersion\": \"not a...</td>\n",
       "      <td>2376720078563423631</td>\n",
       "      <td>{\"continent\": \"Americas\", \"subContinent\": \"Nor...</td>\n",
       "      <td>2376720078563423631_1508193530</td>\n",
       "      <td>Not Socially Engaged</td>\n",
       "      <td>{\"visits\": \"1\", \"hits\": \"8\", \"pageviews\": \"4\",...</td>\n",
       "      <td>{\"campaign\": \"(not set)\", \"source\": \"google\", ...</td>\n",
       "      <td>1508193530</td>\n",
       "      <td>1</td>\n",
       "      <td>1508193530</td>\n",
       "    </tr>\n",
       "    <tr>\n",
       "      <th>4</th>\n",
       "      <td>Organic Search</td>\n",
       "      <td>20171016</td>\n",
       "      <td>{\"browser\": \"Safari\", \"browserVersion\": \"not a...</td>\n",
       "      <td>2314544520795440038</td>\n",
       "      <td>{\"continent\": \"Americas\", \"subContinent\": \"Nor...</td>\n",
       "      <td>2314544520795440038_1508217442</td>\n",
       "      <td>Not Socially Engaged</td>\n",
       "      <td>{\"visits\": \"1\", \"hits\": \"9\", \"pageviews\": \"4\",...</td>\n",
       "      <td>{\"campaign\": \"(not set)\", \"source\": \"google\", ...</td>\n",
       "      <td>1508217442</td>\n",
       "      <td>1</td>\n",
       "      <td>1508217442</td>\n",
       "    </tr>\n",
       "  </tbody>\n",
       "</table>\n",
       "</div>"
      ],
      "text/plain": [
       "  channelGrouping      date  \\\n",
       "0  Organic Search  20171016   \n",
       "1  Organic Search  20171016   \n",
       "2  Organic Search  20171016   \n",
       "3  Organic Search  20171016   \n",
       "4  Organic Search  20171016   \n",
       "\n",
       "                                              device        fullVisitorId  \\\n",
       "0  {\"browser\": \"Chrome\", \"browserVersion\": \"not a...  6167871330617112363   \n",
       "1  {\"browser\": \"Chrome\", \"browserVersion\": \"not a...  0643697640977915618   \n",
       "2  {\"browser\": \"Chrome\", \"browserVersion\": \"not a...  6059383810968229466   \n",
       "3  {\"browser\": \"Safari\", \"browserVersion\": \"not a...  2376720078563423631   \n",
       "4  {\"browser\": \"Safari\", \"browserVersion\": \"not a...  2314544520795440038   \n",
       "\n",
       "                                          geoNetwork  \\\n",
       "0  {\"continent\": \"Asia\", \"subContinent\": \"Southea...   \n",
       "1  {\"continent\": \"Europe\", \"subContinent\": \"South...   \n",
       "2  {\"continent\": \"Europe\", \"subContinent\": \"Weste...   \n",
       "3  {\"continent\": \"Americas\", \"subContinent\": \"Nor...   \n",
       "4  {\"continent\": \"Americas\", \"subContinent\": \"Nor...   \n",
       "\n",
       "                        sessionId  socialEngagementType  \\\n",
       "0  6167871330617112363_1508151024  Not Socially Engaged   \n",
       "1  0643697640977915618_1508175522  Not Socially Engaged   \n",
       "2  6059383810968229466_1508143220  Not Socially Engaged   \n",
       "3  2376720078563423631_1508193530  Not Socially Engaged   \n",
       "4  2314544520795440038_1508217442  Not Socially Engaged   \n",
       "\n",
       "                                              totals  \\\n",
       "0     {\"visits\": \"1\", \"hits\": \"4\", \"pageviews\": \"4\"}   \n",
       "1  {\"visits\": \"1\", \"hits\": \"5\", \"pageviews\": \"5\",...   \n",
       "2  {\"visits\": \"1\", \"hits\": \"7\", \"pageviews\": \"7\",...   \n",
       "3  {\"visits\": \"1\", \"hits\": \"8\", \"pageviews\": \"4\",...   \n",
       "4  {\"visits\": \"1\", \"hits\": \"9\", \"pageviews\": \"4\",...   \n",
       "\n",
       "                                       trafficSource     visitId  visitNumber  \\\n",
       "0  {\"campaign\": \"(not set)\", \"source\": \"google\", ...  1508151024            2   \n",
       "1  {\"campaign\": \"(not set)\", \"source\": \"google\", ...  1508175522            1   \n",
       "2  {\"campaign\": \"(not set)\", \"source\": \"google\", ...  1508143220            1   \n",
       "3  {\"campaign\": \"(not set)\", \"source\": \"google\", ...  1508193530            1   \n",
       "4  {\"campaign\": \"(not set)\", \"source\": \"google\", ...  1508217442            1   \n",
       "\n",
       "   visitStartTime  \n",
       "0      1508151024  \n",
       "1      1508175522  \n",
       "2      1508143220  \n",
       "3      1508193530  \n",
       "4      1508217442  "
      ]
     },
     "execution_count": 3,
     "metadata": {},
     "output_type": "execute_result"
    }
   ],
   "source": [
    "train.head()\n",
    "test.head()"
   ]
  },
  {
   "cell_type": "code",
   "execution_count": 4,
   "metadata": {},
   "outputs": [
    {
     "data": {
      "text/html": [
       "<div>\n",
       "<style scoped>\n",
       "    .dataframe tbody tr th:only-of-type {\n",
       "        vertical-align: middle;\n",
       "    }\n",
       "\n",
       "    .dataframe tbody tr th {\n",
       "        vertical-align: top;\n",
       "    }\n",
       "\n",
       "    .dataframe thead th {\n",
       "        text-align: right;\n",
       "    }\n",
       "</style>\n",
       "<table border=\"1\" class=\"dataframe\">\n",
       "  <thead>\n",
       "    <tr style=\"text-align: right;\">\n",
       "      <th></th>\n",
       "      <th>channelGrouping</th>\n",
       "      <th>date</th>\n",
       "      <th>device</th>\n",
       "      <th>fullVisitorId</th>\n",
       "      <th>geoNetwork</th>\n",
       "      <th>sessionId</th>\n",
       "      <th>socialEngagementType</th>\n",
       "      <th>totals</th>\n",
       "      <th>trafficSource</th>\n",
       "      <th>visitId</th>\n",
       "      <th>visitNumber</th>\n",
       "      <th>visitStartTime</th>\n",
       "    </tr>\n",
       "  </thead>\n",
       "  <tbody>\n",
       "    <tr>\n",
       "      <th>804679</th>\n",
       "      <td>Social</td>\n",
       "      <td>20180421</td>\n",
       "      <td>{\"browser\": \"Edge\", \"browserVersion\": \"not ava...</td>\n",
       "      <td>9084225574121020383</td>\n",
       "      <td>{\"continent\": \"Americas\", \"subContinent\": \"Nor...</td>\n",
       "      <td>9084225574121020383_1524358436</td>\n",
       "      <td>Not Socially Engaged</td>\n",
       "      <td>{\"visits\": \"1\", \"hits\": \"33\", \"pageviews\": \"26\"}</td>\n",
       "      <td>{\"referralPath\": \"/intl/en/yt/about/\", \"campai...</td>\n",
       "      <td>1524358436</td>\n",
       "      <td>2</td>\n",
       "      <td>1524358436</td>\n",
       "    </tr>\n",
       "    <tr>\n",
       "      <th>804680</th>\n",
       "      <td>Social</td>\n",
       "      <td>20180421</td>\n",
       "      <td>{\"browser\": \"Chrome\", \"browserVersion\": \"not a...</td>\n",
       "      <td>6146210385566305056</td>\n",
       "      <td>{\"continent\": \"Americas\", \"subContinent\": \"Sou...</td>\n",
       "      <td>6146210385566305056_1524317728</td>\n",
       "      <td>Not Socially Engaged</td>\n",
       "      <td>{\"visits\": \"1\", \"hits\": \"36\", \"pageviews\": \"34...</td>\n",
       "      <td>{\"referralPath\": \"/yt/lineups/es/index.html\", ...</td>\n",
       "      <td>1524317728</td>\n",
       "      <td>1</td>\n",
       "      <td>1524317728</td>\n",
       "    </tr>\n",
       "    <tr>\n",
       "      <th>804681</th>\n",
       "      <td>Social</td>\n",
       "      <td>20180421</td>\n",
       "      <td>{\"browser\": \"Safari (in-app)\", \"browserVersion...</td>\n",
       "      <td>7484543584006767361</td>\n",
       "      <td>{\"continent\": \"Americas\", \"subContinent\": \"Nor...</td>\n",
       "      <td>7484543584006767361_1524364725</td>\n",
       "      <td>Not Socially Engaged</td>\n",
       "      <td>{\"visits\": \"1\", \"hits\": \"53\", \"pageviews\": \"35...</td>\n",
       "      <td>{\"referralPath\": \"/\", \"campaign\": \"(not set)\",...</td>\n",
       "      <td>1524364725</td>\n",
       "      <td>1</td>\n",
       "      <td>1524364725</td>\n",
       "    </tr>\n",
       "    <tr>\n",
       "      <th>804682</th>\n",
       "      <td>Social</td>\n",
       "      <td>20180421</td>\n",
       "      <td>{\"browser\": \"Samsung Internet\", \"browserVersio...</td>\n",
       "      <td>2915966035609674201</td>\n",
       "      <td>{\"continent\": \"Europe\", \"subContinent\": \"North...</td>\n",
       "      <td>2915966035609674201_1524330416</td>\n",
       "      <td>Not Socially Engaged</td>\n",
       "      <td>{\"visits\": \"1\", \"hits\": \"58\", \"pageviews\": \"34...</td>\n",
       "      <td>{\"referralPath\": \"/yt/about/policies/\", \"campa...</td>\n",
       "      <td>1524330416</td>\n",
       "      <td>1</td>\n",
       "      <td>1524330416</td>\n",
       "    </tr>\n",
       "    <tr>\n",
       "      <th>804683</th>\n",
       "      <td>Social</td>\n",
       "      <td>20180421</td>\n",
       "      <td>{\"browser\": \"MRCHROME\", \"browserVersion\": \"not...</td>\n",
       "      <td>5334918847827785763</td>\n",
       "      <td>{\"continent\": \"Europe\", \"subContinent\": \"Easte...</td>\n",
       "      <td>5334918847827785763_1524301572</td>\n",
       "      <td>Not Socially Engaged</td>\n",
       "      <td>{\"visits\": \"1\", \"hits\": \"71\", \"pageviews\": \"38...</td>\n",
       "      <td>{\"referralPath\": \"/yt/music/ru/index.html\", \"c...</td>\n",
       "      <td>1524301572</td>\n",
       "      <td>1</td>\n",
       "      <td>1524301572</td>\n",
       "    </tr>\n",
       "  </tbody>\n",
       "</table>\n",
       "</div>"
      ],
      "text/plain": [
       "       channelGrouping      date  \\\n",
       "804679          Social  20180421   \n",
       "804680          Social  20180421   \n",
       "804681          Social  20180421   \n",
       "804682          Social  20180421   \n",
       "804683          Social  20180421   \n",
       "\n",
       "                                                   device  \\\n",
       "804679  {\"browser\": \"Edge\", \"browserVersion\": \"not ava...   \n",
       "804680  {\"browser\": \"Chrome\", \"browserVersion\": \"not a...   \n",
       "804681  {\"browser\": \"Safari (in-app)\", \"browserVersion...   \n",
       "804682  {\"browser\": \"Samsung Internet\", \"browserVersio...   \n",
       "804683  {\"browser\": \"MRCHROME\", \"browserVersion\": \"not...   \n",
       "\n",
       "              fullVisitorId  \\\n",
       "804679  9084225574121020383   \n",
       "804680  6146210385566305056   \n",
       "804681  7484543584006767361   \n",
       "804682  2915966035609674201   \n",
       "804683  5334918847827785763   \n",
       "\n",
       "                                               geoNetwork  \\\n",
       "804679  {\"continent\": \"Americas\", \"subContinent\": \"Nor...   \n",
       "804680  {\"continent\": \"Americas\", \"subContinent\": \"Sou...   \n",
       "804681  {\"continent\": \"Americas\", \"subContinent\": \"Nor...   \n",
       "804682  {\"continent\": \"Europe\", \"subContinent\": \"North...   \n",
       "804683  {\"continent\": \"Europe\", \"subContinent\": \"Easte...   \n",
       "\n",
       "                             sessionId  socialEngagementType  \\\n",
       "804679  9084225574121020383_1524358436  Not Socially Engaged   \n",
       "804680  6146210385566305056_1524317728  Not Socially Engaged   \n",
       "804681  7484543584006767361_1524364725  Not Socially Engaged   \n",
       "804682  2915966035609674201_1524330416  Not Socially Engaged   \n",
       "804683  5334918847827785763_1524301572  Not Socially Engaged   \n",
       "\n",
       "                                                   totals  \\\n",
       "804679   {\"visits\": \"1\", \"hits\": \"33\", \"pageviews\": \"26\"}   \n",
       "804680  {\"visits\": \"1\", \"hits\": \"36\", \"pageviews\": \"34...   \n",
       "804681  {\"visits\": \"1\", \"hits\": \"53\", \"pageviews\": \"35...   \n",
       "804682  {\"visits\": \"1\", \"hits\": \"58\", \"pageviews\": \"34...   \n",
       "804683  {\"visits\": \"1\", \"hits\": \"71\", \"pageviews\": \"38...   \n",
       "\n",
       "                                            trafficSource     visitId  \\\n",
       "804679  {\"referralPath\": \"/intl/en/yt/about/\", \"campai...  1524358436   \n",
       "804680  {\"referralPath\": \"/yt/lineups/es/index.html\", ...  1524317728   \n",
       "804681  {\"referralPath\": \"/\", \"campaign\": \"(not set)\",...  1524364725   \n",
       "804682  {\"referralPath\": \"/yt/about/policies/\", \"campa...  1524330416   \n",
       "804683  {\"referralPath\": \"/yt/music/ru/index.html\", \"c...  1524301572   \n",
       "\n",
       "        visitNumber  visitStartTime  \n",
       "804679            2      1524358436  \n",
       "804680            1      1524317728  \n",
       "804681            1      1524364725  \n",
       "804682            1      1524330416  \n",
       "804683            1      1524301572  "
      ]
     },
     "execution_count": 4,
     "metadata": {},
     "output_type": "execute_result"
    }
   ],
   "source": [
    "train.tail()\n",
    "test.tail()"
   ]
  },
  {
   "cell_type": "code",
   "execution_count": 5,
   "metadata": {},
   "outputs": [
    {
     "data": {
      "text/html": [
       "<div>\n",
       "<style scoped>\n",
       "    .dataframe tbody tr th:only-of-type {\n",
       "        vertical-align: middle;\n",
       "    }\n",
       "\n",
       "    .dataframe tbody tr th {\n",
       "        vertical-align: top;\n",
       "    }\n",
       "\n",
       "    .dataframe thead th {\n",
       "        text-align: right;\n",
       "    }\n",
       "</style>\n",
       "<table border=\"1\" class=\"dataframe\">\n",
       "  <thead>\n",
       "    <tr style=\"text-align: right;\">\n",
       "      <th></th>\n",
       "      <th>date</th>\n",
       "      <th>visitId</th>\n",
       "      <th>visitNumber</th>\n",
       "      <th>visitStartTime</th>\n",
       "    </tr>\n",
       "  </thead>\n",
       "  <tbody>\n",
       "    <tr>\n",
       "      <th>count</th>\n",
       "      <td>9.036530e+05</td>\n",
       "      <td>9.036530e+05</td>\n",
       "      <td>903653.000000</td>\n",
       "      <td>9.036530e+05</td>\n",
       "    </tr>\n",
       "    <tr>\n",
       "      <th>mean</th>\n",
       "      <td>2.016589e+07</td>\n",
       "      <td>1.485007e+09</td>\n",
       "      <td>2.264897</td>\n",
       "      <td>1.485007e+09</td>\n",
       "    </tr>\n",
       "    <tr>\n",
       "      <th>std</th>\n",
       "      <td>4.697698e+03</td>\n",
       "      <td>9.022124e+06</td>\n",
       "      <td>9.283735</td>\n",
       "      <td>9.022124e+06</td>\n",
       "    </tr>\n",
       "    <tr>\n",
       "      <th>min</th>\n",
       "      <td>2.016080e+07</td>\n",
       "      <td>1.470035e+09</td>\n",
       "      <td>1.000000</td>\n",
       "      <td>1.470035e+09</td>\n",
       "    </tr>\n",
       "    <tr>\n",
       "      <th>25%</th>\n",
       "      <td>2.016103e+07</td>\n",
       "      <td>1.477561e+09</td>\n",
       "      <td>1.000000</td>\n",
       "      <td>1.477561e+09</td>\n",
       "    </tr>\n",
       "    <tr>\n",
       "      <th>50%</th>\n",
       "      <td>2.017011e+07</td>\n",
       "      <td>1.483949e+09</td>\n",
       "      <td>1.000000</td>\n",
       "      <td>1.483949e+09</td>\n",
       "    </tr>\n",
       "    <tr>\n",
       "      <th>75%</th>\n",
       "      <td>2.017042e+07</td>\n",
       "      <td>1.492759e+09</td>\n",
       "      <td>1.000000</td>\n",
       "      <td>1.492759e+09</td>\n",
       "    </tr>\n",
       "    <tr>\n",
       "      <th>max</th>\n",
       "      <td>2.017080e+07</td>\n",
       "      <td>1.501657e+09</td>\n",
       "      <td>395.000000</td>\n",
       "      <td>1.501657e+09</td>\n",
       "    </tr>\n",
       "  </tbody>\n",
       "</table>\n",
       "</div>"
      ],
      "text/plain": [
       "               date       visitId    visitNumber  visitStartTime\n",
       "count  9.036530e+05  9.036530e+05  903653.000000    9.036530e+05\n",
       "mean   2.016589e+07  1.485007e+09       2.264897    1.485007e+09\n",
       "std    4.697698e+03  9.022124e+06       9.283735    9.022124e+06\n",
       "min    2.016080e+07  1.470035e+09       1.000000    1.470035e+09\n",
       "25%    2.016103e+07  1.477561e+09       1.000000    1.477561e+09\n",
       "50%    2.017011e+07  1.483949e+09       1.000000    1.483949e+09\n",
       "75%    2.017042e+07  1.492759e+09       1.000000    1.492759e+09\n",
       "max    2.017080e+07  1.501657e+09     395.000000    1.501657e+09"
      ]
     },
     "execution_count": 5,
     "metadata": {},
     "output_type": "execute_result"
    }
   ],
   "source": [
    "train.describe()"
   ]
  },
  {
   "cell_type": "code",
   "execution_count": 6,
   "metadata": {},
   "outputs": [
    {
     "data": {
      "text/html": [
       "<div>\n",
       "<style scoped>\n",
       "    .dataframe tbody tr th:only-of-type {\n",
       "        vertical-align: middle;\n",
       "    }\n",
       "\n",
       "    .dataframe tbody tr th {\n",
       "        vertical-align: top;\n",
       "    }\n",
       "\n",
       "    .dataframe thead th {\n",
       "        text-align: right;\n",
       "    }\n",
       "</style>\n",
       "<table border=\"1\" class=\"dataframe\">\n",
       "  <thead>\n",
       "    <tr style=\"text-align: right;\">\n",
       "      <th></th>\n",
       "      <th>date</th>\n",
       "      <th>visitId</th>\n",
       "      <th>visitNumber</th>\n",
       "      <th>visitStartTime</th>\n",
       "    </tr>\n",
       "  </thead>\n",
       "  <tbody>\n",
       "    <tr>\n",
       "      <th>count</th>\n",
       "      <td>8.046840e+05</td>\n",
       "      <td>8.046840e+05</td>\n",
       "      <td>804684.000000</td>\n",
       "      <td>8.046840e+05</td>\n",
       "    </tr>\n",
       "    <tr>\n",
       "      <th>mean</th>\n",
       "      <td>2.017496e+07</td>\n",
       "      <td>1.513339e+09</td>\n",
       "      <td>2.414087</td>\n",
       "      <td>1.513339e+09</td>\n",
       "    </tr>\n",
       "    <tr>\n",
       "      <th>std</th>\n",
       "      <td>4.573101e+03</td>\n",
       "      <td>6.676000e+06</td>\n",
       "      <td>9.431737</td>\n",
       "      <td>6.676000e+06</td>\n",
       "    </tr>\n",
       "    <tr>\n",
       "      <th>min</th>\n",
       "      <td>2.017080e+07</td>\n",
       "      <td>1.501656e+09</td>\n",
       "      <td>1.000000</td>\n",
       "      <td>1.501657e+09</td>\n",
       "    </tr>\n",
       "    <tr>\n",
       "      <th>25%</th>\n",
       "      <td>2.017101e+07</td>\n",
       "      <td>1.507548e+09</td>\n",
       "      <td>1.000000</td>\n",
       "      <td>1.507548e+09</td>\n",
       "    </tr>\n",
       "    <tr>\n",
       "      <th>50%</th>\n",
       "      <td>2.017121e+07</td>\n",
       "      <td>1.513125e+09</td>\n",
       "      <td>1.000000</td>\n",
       "      <td>1.513125e+09</td>\n",
       "    </tr>\n",
       "    <tr>\n",
       "      <th>75%</th>\n",
       "      <td>2.018022e+07</td>\n",
       "      <td>1.519227e+09</td>\n",
       "      <td>1.000000</td>\n",
       "      <td>1.519227e+09</td>\n",
       "    </tr>\n",
       "    <tr>\n",
       "      <th>max</th>\n",
       "      <td>2.018043e+07</td>\n",
       "      <td>1.525158e+09</td>\n",
       "      <td>457.000000</td>\n",
       "      <td>1.525158e+09</td>\n",
       "    </tr>\n",
       "  </tbody>\n",
       "</table>\n",
       "</div>"
      ],
      "text/plain": [
       "               date       visitId    visitNumber  visitStartTime\n",
       "count  8.046840e+05  8.046840e+05  804684.000000    8.046840e+05\n",
       "mean   2.017496e+07  1.513339e+09       2.414087    1.513339e+09\n",
       "std    4.573101e+03  6.676000e+06       9.431737    6.676000e+06\n",
       "min    2.017080e+07  1.501656e+09       1.000000    1.501657e+09\n",
       "25%    2.017101e+07  1.507548e+09       1.000000    1.507548e+09\n",
       "50%    2.017121e+07  1.513125e+09       1.000000    1.513125e+09\n",
       "75%    2.018022e+07  1.519227e+09       1.000000    1.519227e+09\n",
       "max    2.018043e+07  1.525158e+09     457.000000    1.525158e+09"
      ]
     },
     "execution_count": 6,
     "metadata": {},
     "output_type": "execute_result"
    }
   ],
   "source": [
    "test.describe()"
   ]
  },
  {
   "cell_type": "code",
   "execution_count": 7,
   "metadata": {
    "scrolled": true
   },
   "outputs": [
    {
     "data": {
      "text/plain": [
       "Index(['channelGrouping', 'date', 'device', 'fullVisitorId', 'geoNetwork',\n",
       "       'sessionId', 'socialEngagementType', 'totals', 'trafficSource',\n",
       "       'visitId', 'visitNumber', 'visitStartTime'],\n",
       "      dtype='object')"
      ]
     },
     "execution_count": 7,
     "metadata": {},
     "output_type": "execute_result"
    }
   ],
   "source": [
    "train.columns\n",
    "test.columns"
   ]
  },
  {
   "cell_type": "markdown",
   "metadata": {},
   "source": [
    "#Data cleaning:\n",
    "Now that we have some understanding of the data and its content let&#39;s look at the data itself and\n",
    "see if any missing values are present.\n",
    "By looking at the data, it can be observed that some columns have &#39;not available in demo dataset&#39;\n",
    "in both train and test data set.\n",
    "We arrive at a total of 58 features after converting the data from the Json format to standard cell\n",
    "format. From this, we drop the redundant features that we do not think are essential to predict\n",
    "Google Store customer revenues.\n"
   ]
  },
  {
   "cell_type": "code",
   "execution_count": 8,
   "metadata": {},
   "outputs": [
    {
     "data": {
      "text/plain": [
       "channelGrouping              8\n",
       "date                       366\n",
       "device                     176\n",
       "fullVisitorId           742735\n",
       "geoNetwork               39032\n",
       "sessionId               902755\n",
       "socialEngagementType         1\n",
       "totals                   14840\n",
       "trafficSource            26061\n",
       "visitId                 886303\n",
       "visitNumber                384\n",
       "visitStartTime          887159\n",
       "dtype: int64"
      ]
     },
     "execution_count": 8,
     "metadata": {},
     "output_type": "execute_result"
    }
   ],
   "source": [
    "test.nunique()\n",
    "train.nunique()"
   ]
  },
  {
   "cell_type": "code",
   "execution_count": 25,
   "metadata": {},
   "outputs": [
    {
     "data": {
      "text/plain": [
       "array(['Organic Search', 'Paid Search', 'Display', 'Direct', 'Referral',\n",
       "       'Social', 'Affiliates', '(Other)'], dtype=object)"
      ]
     },
     "execution_count": 25,
     "metadata": {},
     "output_type": "execute_result"
    }
   ],
   "source": [
    "test['channelGrouping'].unique()"
   ]
  },
  {
   "cell_type": "code",
   "execution_count": 26,
   "metadata": {},
   "outputs": [
    {
     "data": {
      "text/plain": [
       "channelGrouping         0\n",
       "date                    0\n",
       "device                  0\n",
       "fullVisitorId           0\n",
       "geoNetwork              0\n",
       "sessionId               0\n",
       "socialEngagementType    0\n",
       "totals                  0\n",
       "trafficSource           0\n",
       "visitId                 0\n",
       "visitNumber             0\n",
       "visitStartTime          0\n",
       "dtype: int64"
      ]
     },
     "execution_count": 26,
     "metadata": {},
     "output_type": "execute_result"
    }
   ],
   "source": [
    "test.isnull().sum()"
   ]
  },
  {
   "cell_type": "markdown",
   "metadata": {},
   "source": [
    "#Exploratory Data Analysis\n"
   ]
  },
  {
   "cell_type": "code",
   "execution_count": 15,
   "metadata": {},
   "outputs": [
    {
     "data": {
      "text/plain": [
       "<matplotlib.legend.Legend at 0x20c49a78dd8>"
      ]
     },
     "execution_count": 15,
     "metadata": {},
     "output_type": "execute_result"
    },
    {
     "data": {
      "image/png": "[encoded data removed]",
      "text/plain": [
       "<Figure size 432x288 with 1 Axes>"
      ]
     },
     "metadata": {
      "needs_background": "light"
     },
     "output_type": "display_data"
    }
   ],
   "source": [
    "train.date = pd.to_datetime(train.date, format=\"%Y%m%d\")\n",
    "test.date = pd.to_datetime(test.date, format=\"%Y%m%d\")\n",
    "train.date.value_counts().sort_index().plot(label=\"train\")\n",
    "test.date.value_counts().sort_index().plot(label=\"test\")\n",
    "plt.legend()"
   ]
  },
  {
   "cell_type": "code",
   "execution_count": 45,
   "metadata": {},
   "outputs": [
    {
     "data": {
      "image/png": "[encoded data removed]",
      "text/plain": [
       "<Figure size 432x288 with 1 Axes>"
      ]
     },
     "metadata": {
      "needs_background": "light"
     },
     "output_type": "display_data"
    }
   ],
   "source": [
    "def drawBars(columnname):\n",
    "    sns.barplot(x=\"count\", y=\"index\", hue=\"dataset\",\n",
    "        data=pd.melt(pd.concat([train[columnname].value_counts().rename(\"train\"), \n",
    "                       test[columnname].value_counts().rename(\"test\")], axis=1, sort=\"False\").reset_index(),\n",
    "            id_vars=\"index\", var_name=\"dataset\", value_name=\"count\"))\n",
    "\n",
    "drawBars(\"socialEngagementType\")"
   ]
  },
  {
   "cell_type": "code",
   "execution_count": 52,
   "metadata": {
    "scrolled": true
   },
   "outputs": [
    {
     "data": {
      "image/png": "[encoded data removed]",
      "text/plain": [
       "<Figure size 1440x720 with 1 Axes>"
      ]
     },
     "metadata": {
      "needs_background": "light"
     },
     "output_type": "display_data"
    }
   ],
   "source": [
    "fig, ax = plt.subplots(figsize=(20,10))\n",
    "ax.scatter(test['visitId'], test['channelGrouping'])\n",
    "ax.set_xlabel('visitId')\n",
    "ax.set_ylabel('channelGrouping')\n",
    "plt.show()"
   ]
  },
  {
   "cell_type": "code",
   "execution_count": 27,
   "metadata": {},
   "outputs": [
    {
     "data": {
      "text/plain": [
       "<matplotlib.axes._subplots.AxesSubplot at 0x26af314b0b8>"
      ]
     },
     "execution_count": 27,
     "metadata": {},
     "output_type": "execute_result"
    },
    {
     "data": {
      "image/png": "[encoded data removed]",
      "text/plain": [
       "<Figure size 432x288 with 1 Axes>"
      ]
     },
     "metadata": {
      "needs_background": "light"
     },
     "output_type": "display_data"
    }
   ],
   "source": [
    "sns.distplot(test.geoNetwork, color='green')"
   ]
  },
  {
   "cell_type": "code",
   "execution_count": 32,
   "metadata": {},
   "outputs": [
    {
     "data": {
      "text/plain": [
       "<matplotlib.axes._subplots.AxesSubplot at 0x26a9241fda0>"
      ]
     },
     "execution_count": 32,
     "metadata": {},
     "output_type": "execute_result"
    },
    {
     "data": {
      "image/png": "[encoded data removed]",
      "text/plain": [
       "<Figure size 432x288 with 1 Axes>"
      ]
     },
     "metadata": {
      "needs_background": "light"
     },
     "output_type": "display_data"
    }
   ],
   "source": [
    "sns.boxplot(x=test['channelGrouping'],y=test['visitId'])"
   ]
  },
  {
   "cell_type": "code",
   "execution_count": 21,
   "metadata": {},
   "outputs": [
    {
     "data": {
      "text/html": [
       "<div>\n",
       "<style scoped>\n",
       "    .dataframe tbody tr th:only-of-type {\n",
       "        vertical-align: middle;\n",
       "    }\n",
       "\n",
       "    .dataframe tbody tr th {\n",
       "        vertical-align: top;\n",
       "    }\n",
       "\n",
       "    .dataframe thead th {\n",
       "        text-align: right;\n",
       "    }\n",
       "</style>\n",
       "<table border=\"1\" class=\"dataframe\">\n",
       "  <thead>\n",
       "    <tr style=\"text-align: right;\">\n",
       "      <th></th>\n",
       "      <th>date</th>\n",
       "      <th>visitId</th>\n",
       "      <th>visitNumber</th>\n",
       "      <th>visitStartTime</th>\n",
       "    </tr>\n",
       "  </thead>\n",
       "  <tbody>\n",
       "    <tr>\n",
       "      <th>date</th>\n",
       "      <td>1.000000</td>\n",
       "      <td>0.880936</td>\n",
       "      <td>0.007536</td>\n",
       "      <td>0.880936</td>\n",
       "    </tr>\n",
       "    <tr>\n",
       "      <th>visitId</th>\n",
       "      <td>0.880936</td>\n",
       "      <td>1.000000</td>\n",
       "      <td>0.002069</td>\n",
       "      <td>1.000000</td>\n",
       "    </tr>\n",
       "    <tr>\n",
       "      <th>visitNumber</th>\n",
       "      <td>0.007536</td>\n",
       "      <td>0.002069</td>\n",
       "      <td>1.000000</td>\n",
       "      <td>0.002069</td>\n",
       "    </tr>\n",
       "    <tr>\n",
       "      <th>visitStartTime</th>\n",
       "      <td>0.880936</td>\n",
       "      <td>1.000000</td>\n",
       "      <td>0.002069</td>\n",
       "      <td>1.000000</td>\n",
       "    </tr>\n",
       "  </tbody>\n",
       "</table>\n",
       "</div>"
      ],
      "text/plain": [
       "                    date   visitId  visitNumber  visitStartTime\n",
       "date            1.000000  0.880936     0.007536        0.880936\n",
       "visitId         0.880936  1.000000     0.002069        1.000000\n",
       "visitNumber     0.007536  0.002069     1.000000        0.002069\n",
       "visitStartTime  0.880936  1.000000     0.002069        1.000000"
      ]
     },
     "execution_count": 21,
     "metadata": {},
     "output_type": "execute_result"
    },
    {
     "data": {
      "image/png": "[encoded data removed]",
      "text/plain": [
       "<Figure size 1440x720 with 2 Axes>"
      ]
     },
     "metadata": {
      "needs_background": "light"
     },
     "output_type": "display_data"
    }
   ],
   "source": [
    "plt.figure(figsize=(20,10))\n",
    "c= train.corr()\n",
    "sns.heatmap(c,cmap=\"RdBu\",annot=True)\n",
    "c\n"
   ]
  },
  {
   "cell_type": "markdown",
   "metadata": {},
   "source": [
    "#Conclusion:\n",
    "From the line graph which is drawn between date and no. of visits for the two files seperated into test \n",
    "and train datasets fro better validation, shows that value counts during the DEC 2017 is higher than \n",
    "test value counts.\n",
    "\n",
    "The horizontal bar graph shows the proportion of train and test datasets of the total visitors, and it \n",
    "gave results that in most the cases train dataset shows higher counts than test in the variables.\n",
    "\n",
    "We generally use scatter plots to find the correlation between two variables. Here the scatter plots are \n",
    "plotted between 'channelGrouping' and 'visitId' and we can see the plot below. With the plot given below, \n",
    "we can easily draw a trend line. These features provide a good scattering of points.\n",
    "\n",
    "The distribution bar chart tells the distribution of the Visit Ids across the no. of visits and shows \n",
    "thateach visit Id visited the store in how many no. of occurences by setting set limit to the x-axis.\n",
    "\n",
    "The boxplot shows the correlation between the visitId and channelGrouping where most of the visitors who \n",
    "have visited the store online had given their preference in the other categories rather than the ones \n",
    "mentioned in the above list and had very less correlation to the 'Display' category.\n",
    "\n",
    "Finally the heatmap chart explains the correlation of the values between the variables and it shows high \n",
    "correlation between visitId and Visitstartime. SO that we can proceed some more analysis using these two\n",
    "variables for further exploration of the dataset."
   ]
  }
 ],
 "metadata": {
  "kernelspec": {
   "display_name": "Python 3",
   "language": "python",
   "name": "python3"
  },
  "language_info": {
   "codemirror_mode": {
    "name": "ipython",
    "version": 3
   },
   "file_extension": ".py",
   "mimetype": "text/x-python",
   "name": "python",
   "nbconvert_exporter": "python",
   "pygments_lexer": "ipython3",
   "version": "3.7.3"
  }
 },
 "nbformat": 4,
 "nbformat_minor": 2
}
